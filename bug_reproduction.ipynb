{
 "cells": [
  {
   "cell_type": "code",
   "execution_count": 5,
   "metadata": {},
   "outputs": [
    {
     "name": "stdout",
     "output_type": "stream",
     "text": [
      "Session creation successful:\n",
      "{'id': 's_testsession', 'app_name': 'multi_tool_agent', 'user_id': 'u_testuser', 'state': {'state': {}}, 'events': [], 'last_update_time': 1747303729.910607}\n"
     ]
    }
   ],
   "source": [
    "import requests\n",
    "import json\n",
    "\n",
    "agent_name = 'multi_tool_agent'  # Replace with your agent's name\n",
    "user_id = 'u_testuser'\n",
    "session_id = 's_testsession'\n",
    "\n",
    "url = f\"http://localhost:8000/apps/{agent_name}/users/{user_id}/sessions/{session_id}\"\n",
    "headers = {\n",
    "    \"Content-Type\": \"application/json\"\n",
    "}\n",
    "data = {\n",
    "    \"state\": {}\n",
    "}\n",
    "\n",
    "try:\n",
    "    response = requests.post(url, headers=headers, data=json.dumps(data))\n",
    "    response.raise_for_status()  # Raise an exception for bad status codes (4xx or 5xx)\n",
    "    print(\"Session creation successful:\")\n",
    "    print(response.json())\n",
    "except requests.exceptions.RequestException as e:\n",
    "    print(f\"Error creating session: {e}\")\n",
    "    if hasattr(e, 'response') and e.response is not None:\n",
    "        print(f\"Response content: {e.response.text}\")\n"
   ]
  },
  {
   "cell_type": "code",
   "execution_count": 6,
   "metadata": {},
   "outputs": [
    {
     "name": "stdout",
     "output_type": "stream",
     "text": [
      "\n",
      "Query response for 'weather in new york':\n",
      "[{'content': {'parts': [{'text': 'I am about to get the weather in new york, please wait.\\n'}, {'functionCall': {'id': 'adk-75d55e79-4873-4cf8-9c81-865966ffa974', 'args': {'city': 'new york'}, 'name': 'get_weather'}}], 'role': 'model'}, 'invocation_id': 'e-3c19f165-241d-4ac2-931d-6a2ceb555620', 'author': 'weather_time_agent', 'actions': {'state_delta': {}, 'artifact_delta': {}, 'requested_auth_configs': {}}, 'long_running_tool_ids': [], 'id': 'I6mB5YFu', 'timestamp': 1747303735.960683}, {'content': {'parts': [{'functionResponse': {'id': 'adk-75d55e79-4873-4cf8-9c81-865966ffa974', 'name': 'get_weather', 'response': {'status': 'success', 'report': 'The weather in New York is sunny with a temperature of 25 degrees Celsius (77 degrees Fahrenheit).'}}}], 'role': 'user'}, 'invocation_id': 'e-3c19f165-241d-4ac2-931d-6a2ceb555620', 'author': 'weather_time_agent', 'actions': {'state_delta': {}, 'artifact_delta': {}, 'requested_auth_configs': {}}, 'id': 'VZRMyMeK', 'timestamp': 1747303736.728387}, {'content': {'parts': [{'text': 'OK. The weather in New York is sunny with a temperature of 25 degrees Celsius (77 degrees Fahrenheit).\\n'}], 'role': 'model'}, 'invocation_id': 'e-3c19f165-241d-4ac2-931d-6a2ceb555620', 'author': 'weather_time_agent', 'actions': {'state_delta': {}, 'artifact_delta': {}, 'requested_auth_configs': {}}, 'id': '3rHpcFlk', 'timestamp': 1747303736.728624}]\n"
     ]
    }
   ],
   "source": [
    "agent_name = 'multi_tool_agent'  # Replace with your agent's name\n",
    "user_id = 'u_testuser'\n",
    "session_id = 's_testsession'\n",
    "query_text = \"weather in new york\"\n",
    "\n",
    "url = \"http://localhost:8000/run\"\n",
    "headers = {\n",
    "    \"Content-Type\": \"application/json\"\n",
    "}\n",
    "data = {\n",
    "    \"app_name\": agent_name,\n",
    "    \"user_id\": user_id,\n",
    "    \"session_id\": session_id,\n",
    "    \"new_message\": {\n",
    "        \"role\": \"user\",\n",
    "        \"parts\": [{\n",
    "            \"text\": query_text\n",
    "        }]\n",
    "    }\n",
    "}\n",
    "\n",
    "try:\n",
    "    response = requests.post(url, headers=headers, data=json.dumps(data))\n",
    "    response.raise_for_status()\n",
    "    print(f\"\\nQuery response for '{query_text}':\")\n",
    "    print(response.json())\n",
    "except requests.exceptions.RequestException as e:\n",
    "    print(f\"Error sending query: {e}\")\n",
    "    if hasattr(e, 'response') and e.response is not None:\n",
    "        print(f\"Response content: {e.response.text}\")"
   ]
  },
  {
   "cell_type": "code",
   "execution_count": 11,
   "metadata": {},
   "outputs": [
    {
     "name": "stdout",
     "output_type": "stream",
     "text": [
      "\n",
      "Streaming query response for 'weather in new york' (SSE enabled):\n",
      "[{\"content\":{\"parts\":[{\"text\":\"I am about to get the weather in new york, please wait.\\n\"},{\"functionCall\":{\"id\":\"adk-9ec440d4-a2a5-433b-b399-a89b683f808c\",\"args\":{\"city\":\"new york\"},\"name\":\"get_weather\"}}],\"role\":\"model\"},\"invocation_id\":\"e-a68db401-c379-4a60-abf4-154dd82c6a57\",\"author\":\"weather_time_agent\",\"actions\":{\"state_delta\":{},\"artifact_delta\":{},\"requested_auth_configs\":{}},\"long_running_tool_ids\":[],\"id\":\"TwCIleEA\",\"timestamp\":1747303926.913429},{\"content\":{\"parts\":[{\"functionResponse\":{\"id\":\"adk-9ec440d4-a2a5-433b-b399-a89b683f808c\",\"name\":\"get_weather\",\"response\":{\"status\":\"success\",\"report\":\"The weather in New York is sunny with a temperature of 25 degrees Celsius (77 degrees Fahrenheit).\"}}}],\"role\":\"user\"},\"invocation_id\":\"e-a68db401-c379-4a60-abf4-154dd82c6a57\",\"author\":\"weather_time_agent\",\"actions\":{\"state_delta\":{},\"artifact_delta\":{},\"requested_auth_configs\":{}},\"id\":\"lziQDbg5\",\"timestamp\":1747303927.804021},{\"content\":{\"parts\":[{\"text\":\"OK. The weather in New York is sunny with a temperature of 25 degrees Celsius (77 degrees Fahrenheit).\\n\"}],\"role\":\"model\"},\"invocation_id\":\"e-a68db401-c379-4a60-abf4-154dd82c6a57\",\"author\":\"weather_time_agent\",\"actions\":{\"state_delta\":{},\"artifact_delta\":{},\"requested_auth_configs\":{}},\"id\":\"Vqe53qKj\",\"timestamp\":1747303927.80438}]\n"
     ]
    }
   ],
   "source": [
    "query_text_sse = \"weather in new york\" # Example query\n",
    "data_sse = {\n",
    "    \"app_name\": agent_name,\n",
    "    \"user_id\": user_id,\n",
    "    \"session_id\": session_id,\n",
    "    \"new_message\": {\n",
    "        \"role\": \"user\",\n",
    "        \"parts\": [{\n",
    "            \"text\": query_text_sse\n",
    "        }]\n",
    "    },\n",
    "    \"streaming\": True # Enable token-level streaming\n",
    "}\n",
    "url_sse = \"http://localhost:8000/run\"\n",
    "\n",
    "try:\n",
    "    print(f\"\\nStreaming query response for '{query_text_sse}' (SSE enabled):\")\n",
    "    with requests.post(url_sse, headers=headers, data=json.dumps(data_sse), stream=True) as response:\n",
    "        response.raise_for_status()\n",
    "        for line in response.iter_lines():\n",
    "            if line:\n",
    "                decoded_line = line.decode('utf-8')\n",
    "                if decoded_line.startswith('data: '):\n",
    "                    try:\n",
    "                        event_data = json.loads(decoded_line[len('data: '):])\n",
    "                        print(json.dumps(event_data, indent=2)) # Pretty print the JSON\n",
    "                    except json.JSONDecodeError:\n",
    "                        print(f\"Could not decode JSON: {decoded_line[len('data: '):]}\")\n",
    "                elif decoded_line.strip(): # Print non-empty, non-data lines\n",
    "                    print(decoded_line)\n",
    "                # An empty line often signifies the end of an event or keep-alive ping\n",
    "\n",
    "except requests.exceptions.RequestException as e:\n",
    "    print(f\"Error sending streaming SSE query: {e}\")\n",
    "    if hasattr(e, 'response') and e.response is not None:\n",
    "        try:\n",
    "            print(f\"Response status code: {e.response.status_code}\")\n",
    "            print(f\"Response content: {e.response.text}\")\n",
    "        except Exception as re:\n",
    "            print(f\"Further error reading response: {re}\")\n"
   ]
  }
 ],
 "metadata": {
  "kernelspec": {
   "display_name": "adk-bug-repro",
   "language": "python",
   "name": "python3"
  },
  "language_info": {
   "codemirror_mode": {
    "name": "ipython",
    "version": 3
   },
   "file_extension": ".py",
   "mimetype": "text/x-python",
   "name": "python",
   "nbconvert_exporter": "python",
   "pygments_lexer": "ipython3",
   "version": "3.13.2"
  }
 },
 "nbformat": 4,
 "nbformat_minor": 2
}
